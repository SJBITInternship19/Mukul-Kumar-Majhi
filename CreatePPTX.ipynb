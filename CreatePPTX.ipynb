{
 "cells": [
  {
   "cell_type": "code",
   "execution_count": 5,
   "metadata": {},
   "outputs": [],
   "source": [
    "# creates ppt with custom slide modifications needed\n",
    "# python-pptx\n",
    "# https://pypi.org/project/python-pptx/"
   ]
  },
  {
   "cell_type": "code",
   "execution_count": 6,
   "metadata": {},
   "outputs": [],
   "source": [
    "import os\n",
    "from pptx import Presentation \n",
    "from pptx.util import Inches\n",
    "\n",
    "# initiate files\n",
    "files = os.listdir()\n",
    "pngfiles = [i for i in files if i.endswith('.png')]\n",
    "\n",
    "#initiate presentation\n",
    "prs = Presentation() \n",
    "blank_slide_layout = prs.slide_layouts[6] \n",
    "\n",
    "for i in pngfiles:\n",
    "    slide = prs.slides.add_slide(blank_slide_layout)\n",
    "    left = top = Inches(1)\n",
    "    pic = slide.shapes.add_picture(i, left, top)\n",
    "\n",
    "#saveppt\n",
    "prs.save('test.pptx')"
   ]
  },
  {
   "cell_type": "code",
   "execution_count": null,
   "metadata": {},
   "outputs": [],
   "source": []
  }
 ],
 "metadata": {
  "kernelspec": {
   "display_name": "Python 3",
   "language": "python",
   "name": "python3"
  },
  "language_info": {
   "codemirror_mode": {
    "name": "ipython",
    "version": 3
   },
   "file_extension": ".py",
   "mimetype": "text/x-python",
   "name": "python",
   "nbconvert_exporter": "python",
   "pygments_lexer": "ipython3",
   "version": "3.6.8"
  }
 },
 "nbformat": 4,
 "nbformat_minor": 2
}
