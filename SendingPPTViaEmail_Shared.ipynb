{
 "cells": [
  {
   "cell_type": "code",
   "execution_count": 17,
   "metadata": {},
   "outputs": [],
   "source": [
    "import smtplib,ssl\n",
    "from email.mime.multipart import MIMEMultipart\n",
    "from email.mime.base import MIMEBase\n",
    "from email.mime.text import MIMEText\n",
    "from email.utils import formatdate\n",
    "from email import encoders\n",
    "import password as pswd\n",
    "pwd=pswd.passwdrret()\n",
    "#pwd"
   ]
  },
  {
   "cell_type": "code",
   "execution_count": 18,
   "metadata": {},
   "outputs": [
    {
     "data": {
      "text/plain": [
       "(221, b'2.0.0 closing connection i4sm60307344pfj.82 - gsmtp')"
      ]
     },
     "execution_count": 18,
     "metadata": {},
     "output_type": "execute_result"
    }
   ],
   "source": [
    "#in Gmail :- ENABLE Allow less secure apps in gmail settings\n",
    "#works with all the email clients \n",
    "#Email ppt file\n",
    "\n",
    "\n",
    "\n",
    "msg = MIMEMultipart()\n",
    "msg['From'] = ''# From Email\n",
    "msg['To'] = '' # to EMail\n",
    "msg['Date'] = formatdate(localtime = True)\n",
    "msg['Subject'] = 'sending test.pptx - take1'\n",
    "msg.attach(MIMEText('take1'))\n",
    "\n",
    "part = MIMEBase('application', \"octet-stream\")\n",
    "part.set_payload(open(\"test.pptx\", \"rb\").read())\n",
    "encoders.encode_base64(part)\n",
    "part.add_header('Content-Disposition', 'attachment; filename=\"test.pptx\"')\n",
    "msg.attach(part)\n",
    "\n",
    "#SSL connection only working on Python 3+\n",
    "smtp = smtplib.SMTP('smtp.gmail.com',587 ) #1. email server: smtp ot imap 2. server port address\n",
    "smtp.ehlo()\n",
    "smtp.starttls()\n",
    "smtp.ehlo()\n",
    "smtp.login('mukulmajhi1996@gmail.com',pwd) #1. username 2. password\n",
    "smtp.sendmail('mukulmajhi1996@gmail.com','mukul7277@gmail.com', msg.as_string()) # 1. from email 2. to Email\n",
    "smtp.quit()"
   ]
  },
  {
   "cell_type": "code",
   "execution_count": null,
   "metadata": {},
   "outputs": [],
   "source": []
  },
  {
   "cell_type": "code",
   "execution_count": null,
   "metadata": {},
   "outputs": [],
   "source": []
  }
 ],
 "metadata": {
  "kernelspec": {
   "display_name": "Python 3",
   "language": "python",
   "name": "python3"
  },
  "language_info": {
   "codemirror_mode": {
    "name": "ipython",
    "version": 3
   },
   "file_extension": ".py",
   "mimetype": "text/x-python",
   "name": "python",
   "nbconvert_exporter": "python",
   "pygments_lexer": "ipython3",
   "version": "3.6.8"
  }
 },
 "nbformat": 4,
 "nbformat_minor": 2
}
